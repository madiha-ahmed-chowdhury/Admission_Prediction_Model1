{
  "nbformat": 4,
  "nbformat_minor": 0,
  "metadata": {
    "colab": {
      "private_outputs": true,
      "provenance": [],
      "authorship_tag": "ABX9TyNksuwZ0AybecfdINPzjac8",
      "include_colab_link": true
    },
    "kernelspec": {
      "name": "python3",
      "display_name": "Python 3"
    },
    "language_info": {
      "name": "python"
    }
  },
  "cells": [
    {
      "cell_type": "markdown",
      "metadata": {
        "id": "view-in-github",
        "colab_type": "text"
      },
      "source": [
        "<a href=\"https://colab.research.google.com/github/madiha-ahmed-chowdhury/Admission_Prediction_Model1/blob/main/Admission_Prediction_Model.ipynb\" target=\"_parent\"><img src=\"https://colab.research.google.com/assets/colab-badge.svg\" alt=\"Open In Colab\"/></a>"
      ]
    },
    {
      "cell_type": "markdown",
      "source": [
        "#**Importing Libraries**"
      ],
      "metadata": {
        "id": "Q9jkCgl315GE"
      }
    },
    {
      "cell_type": "code",
      "execution_count": null,
      "metadata": {
        "id": "M5ZDye7mwvfE"
      },
      "outputs": [],
      "source": [
        "import pandas as pd\n",
        "import numpy as np\n",
        "import seaborn as sns\n",
        "import matplotlib.pyplot as plt\n",
        "from jupyterthemes import jtplot\n",
        "jtplot.style(theme='monokai', context='notebook', ticks=True, grid=False)"
      ]
    },
    {
      "cell_type": "markdown",
      "source": [
        "#**Importing Dataset**"
      ],
      "metadata": {
        "id": "-i8DI03B13h2"
      }
    },
    {
      "cell_type": "code",
      "source": [],
      "metadata": {
        "id": "ouEtB0CsFYlh"
      },
      "execution_count": null,
      "outputs": []
    },
    {
      "cell_type": "code",
      "source": [
        "admission_df=pd.read_csv('/content/Admission_Predict (1).csv')"
      ],
      "metadata": {
        "id": "pYKPUtbax3h0"
      },
      "execution_count": null,
      "outputs": []
    },
    {
      "cell_type": "code",
      "source": [
        "admission_df.head()"
      ],
      "metadata": {
        "id": "5X2A27CB1ier"
      },
      "execution_count": null,
      "outputs": []
    },
    {
      "cell_type": "markdown",
      "source": [
        "**Dropping Serial No.**"
      ],
      "metadata": {
        "id": "IWi1Br994l9Z"
      }
    },
    {
      "cell_type": "code",
      "source": [
        "admission_df.drop('Serial No.', axis=1 , inplace=True)\n",
        "admission_df.head()"
      ],
      "metadata": {
        "id": "_FO27-MU3W-b"
      },
      "execution_count": null,
      "outputs": []
    },
    {
      "cell_type": "markdown",
      "source": [
        "#**Exploratory Data Analysis**\n",
        "In the following block of code, we:\n",
        "\n",
        "1.   check for null values\n",
        "2.   study the data frame using .info() and .describe()\n",
        "3.   Extract meaningful insights from these statistics\n"
      ],
      "metadata": {
        "id": "l8K8mWXq8kmT"
      }
    },
    {
      "cell_type": "code",
      "source": [
        "admission_df.isnull().sum()"
      ],
      "metadata": {
        "id": "T9X3aXG54jpv"
      },
      "execution_count": null,
      "outputs": []
    },
    {
      "cell_type": "code",
      "source": [
        "admission_df.info()"
      ],
      "metadata": {
        "id": "ODrXmE018-qf"
      },
      "execution_count": null,
      "outputs": []
    },
    {
      "cell_type": "code",
      "source": [
        "# Statistical summary of the dataframe\n",
        "admission_df.describe()"
      ],
      "metadata": {
        "id": "sw32dc2Y9GNA"
      },
      "execution_count": null,
      "outputs": []
    },
    {
      "cell_type": "code",
      "source": [
        "# Grouping by University ranking\n",
        "df_university = admission_df.groupby(by = 'University Rating').mean()\n",
        "df_university"
      ],
      "metadata": {
        "id": "mMeHKQyV921Z"
      },
      "execution_count": null,
      "outputs": []
    },
    {
      "cell_type": "markdown",
      "source": [
        "From the above statistics, we can clearly see :\n",
        "\n",
        "\n",
        "1.   The mean for GRE score is 316\n",
        "2.   The mean for TOEFL score is 107\n",
        "3.   Standard deviation for the GRE score is 11, which suggests that about 68% of the students score between 305 and 327\n",
        "4.   We also see that the average University Ranking is 3\n"
      ],
      "metadata": {
        "id": "3feQBi3MA-LZ"
      }
    },
    {
      "cell_type": "markdown",
      "source": [
        "#**Data Visalization**"
      ],
      "metadata": {
        "id": "Sm0pyrArnlth"
      }
    },
    {
      "cell_type": "code",
      "source": [
        "admission_df.hist(bins = 30, figsize = (20,20),color = 'r')"
      ],
      "metadata": {
        "id": "yRw6-yGOAXLb"
      },
      "execution_count": null,
      "outputs": []
    },
    {
      "cell_type": "code",
      "source": [
        "sns.pairplot(admission_df)"
      ],
      "metadata": {
        "id": "trSEvLx1nqT4"
      },
      "execution_count": null,
      "outputs": []
    },
    {
      "cell_type": "code",
      "source": [
        "corr_matrix = admission_df.corr()\n",
        "plt.figure(figsize = (12,12))\n",
        "sns.heatmap(corr_matrix,annot = True)\n",
        "plt.show()"
      ],
      "metadata": {
        "id": "aNfzOaDYtBjE"
      },
      "execution_count": null,
      "outputs": []
    },
    {
      "cell_type": "markdown",
      "source": [
        "From the above graphs, we can observe that :\n",
        "\n",
        "\n",
        "1.   There is a very high correlation between GRE and TOEFL scores. A student who scores a high GRE score tends to score a similar high TOEFL score\n",
        "2.   The chances of admission acceptance increase as GPA, SOP and University Ranking improve/increase\n",
        "3.   Students who have research experience in the past, tend to have a higher change of acceptance to a university\n",
        "\n",
        "\n",
        "\n"
      ],
      "metadata": {
        "id": "-gerD-twu-Nn"
      }
    },
    {
      "cell_type": "markdown",
      "source": [
        "#**Creation of training and testing dataset**\n",
        "In the following block of code, we divide the original dataset into training and testing datasets respectively"
      ],
      "metadata": {
        "id": "jT-qg7Ikvo4b"
      }
    },
    {
      "cell_type": "code",
      "source": [
        "admission_df.columns"
      ],
      "metadata": {
        "id": "xpUtNkJ9tY7n"
      },
      "execution_count": null,
      "outputs": []
    },
    {
      "cell_type": "code",
      "source": [
        "X = admission_df.drop(columns = ['Chance of Admit']) # Added a space to match the column name in the dataframe"
      ],
      "metadata": {
        "id": "5z4TZT1Wv36D"
      },
      "execution_count": null,
      "outputs": []
    },
    {
      "cell_type": "code",
      "source": [
        "y = admission_df['Chance of Admit']"
      ],
      "metadata": {
        "id": "Gd90OXbkwAM5"
      },
      "execution_count": null,
      "outputs": []
    },
    {
      "cell_type": "code",
      "source": [
        "X.shape"
      ],
      "metadata": {
        "id": "BlHiYS-6wgzv"
      },
      "execution_count": null,
      "outputs": []
    },
    {
      "cell_type": "code",
      "source": [
        "y.shape"
      ],
      "metadata": {
        "id": "-hJPQd4Uwm8H"
      },
      "execution_count": null,
      "outputs": []
    },
    {
      "cell_type": "code",
      "source": [
        "y"
      ],
      "metadata": {
        "id": "XemZFoi0woZ-"
      },
      "execution_count": null,
      "outputs": []
    },
    {
      "cell_type": "code",
      "source": [
        "X = np.array(X)\n",
        "y = np.array(y)"
      ],
      "metadata": {
        "id": "M4h87l7Zwreo"
      },
      "execution_count": null,
      "outputs": []
    },
    {
      "cell_type": "code",
      "source": [
        "y = y.reshape(-1,1)\n",
        "y.shape"
      ],
      "metadata": {
        "id": "6so-VEe2xWdp"
      },
      "execution_count": null,
      "outputs": []
    },
    {
      "cell_type": "code",
      "source": [
        "# scaling the data before training the model\n",
        "#df consists of diff features and their ranges are variable for these features, hence, we need scaling\n",
        "#This is done to avoid biasing while predicting the y variable\n",
        "from sklearn.preprocessing import StandardScaler,MinMaxScaler\n",
        "scaler_x = StandardScaler()\n",
        "X = scaler_x.fit_transform(X)"
      ],
      "metadata": {
        "id": "uI5OuGahx17i"
      },
      "execution_count": null,
      "outputs": []
    },
    {
      "cell_type": "code",
      "source": [
        "scaler_y = StandardScaler()\n",
        "y = scaler_y.fit_transform(y)"
      ],
      "metadata": {
        "id": "DJaBuo25yRXR"
      },
      "execution_count": null,
      "outputs": []
    },
    {
      "cell_type": "code",
      "source": [
        "# splitting the data in to test and train sets\n",
        "from sklearn.model_selection import train_test_split\n",
        "X_train,X_test,y_train,y_test = train_test_split(X,y,test_size = 0.15)"
      ],
      "metadata": {
        "id": "yIcypvosyVNA"
      },
      "execution_count": null,
      "outputs": []
    },
    {
      "cell_type": "markdown",
      "source": [
        "#**Linear Regression Model**\n",
        "In the following block of code, I have implemented a multiple linear regression model using least sum of squares to find the best fit line"
      ],
      "metadata": {
        "id": "yXFvJxzTygou"
      }
    },
    {
      "cell_type": "code",
      "source": [
        "from sklearn.linear_model import LinearRegression\n",
        "from sklearn.metrics import mean_squared_error, accuracy_score"
      ],
      "metadata": {
        "id": "7mCo52UHydHw"
      },
      "execution_count": null,
      "outputs": []
    },
    {
      "cell_type": "code",
      "source": [
        "LinearRegression_model = LinearRegression()\n",
        "LinearRegression_model.fit(X_train,y_train)"
      ],
      "metadata": {
        "id": "D9AtBszQymgE"
      },
      "execution_count": null,
      "outputs": []
    },
    {
      "cell_type": "code",
      "source": [
        "accuracy_LinearRegression = LinearRegression_model.score(X_test,y_test)\n",
        "accuracy_LinearRegression"
      ],
      "metadata": {
        "id": "AF6Fjuuny64f"
      },
      "execution_count": null,
      "outputs": []
    },
    {
      "cell_type": "markdown",
      "source": [
        "#**Artificial Neural Networks**\n",
        "In the following block of code, I have implemented a neural network model with 4 deep layers and 1 output layer. Additionally, I have also implemented Dropout regularization in order to minimize the dependence between the different neurons in each layer.\n",
        "\n",
        "I have implemented this model using Keras library on top of Tensorflow"
      ],
      "metadata": {
        "id": "wBEyto6V0dSB"
      }
    },
    {
      "cell_type": "code",
      "source": [
        "import tensorflow as tf\n",
        "from tensorflow import keras\n",
        "from tensorflow.keras.layers import Dense, Activation, Dropout\n",
        "from tensorflow.keras.optimizers import Adam"
      ],
      "metadata": {
        "id": "zy53neEozkNt"
      },
      "execution_count": null,
      "outputs": []
    },
    {
      "cell_type": "code",
      "source": [
        "ANN_model = keras.Sequential()\n",
        "ANN_model.add(Dense(50, input_dim = 7))\n",
        "ANN_model.add(Activation('relu'))\n",
        "ANN_model.add(Dense(150))\n",
        "ANN_model.add(Activation('relu'))\n",
        "ANN_model.add(Dropout(0.5))\n",
        "ANN_model.add(Dense(150))\n",
        "ANN_model.add(Activation('relu'))\n",
        "ANN_model.add(Dropout(0.5))\n",
        "ANN_model.add(Dense(50))\n",
        "ANN_model.add(Activation('linear'))\n",
        "ANN_model.add(Dense(1))\n",
        "ANN_model.compile(loss = 'mse', optimizer = 'adam')\n",
        "ANN_model.summary()"
      ],
      "metadata": {
        "id": "Ye1-1Zp92Hwe"
      },
      "execution_count": null,
      "outputs": []
    },
    {
      "cell_type": "code",
      "source": [
        "ANN_model.compile(optimizer='Adam', loss='mean_squared_error')"
      ],
      "metadata": {
        "id": "5eIVv9q529j8"
      },
      "execution_count": null,
      "outputs": []
    },
    {
      "cell_type": "code",
      "source": [
        "epochs_hist = ANN_model.fit(X_train, y_train, epochs = 100, batch_size = 20, validation_split = 0.2)"
      ],
      "metadata": {
        "id": "YtfrTuwF3cJq"
      },
      "execution_count": null,
      "outputs": []
    },
    {
      "cell_type": "code",
      "source": [
        "result = ANN_model.evaluate(X_test, y_test)\n",
        "accuracy_ANN = 1 - result\n",
        "print(\"Accuracy : {}\".format(accuracy_ANN))"
      ],
      "metadata": {
        "id": "dJZVLMYl3fdZ"
      },
      "execution_count": null,
      "outputs": []
    },
    {
      "cell_type": "code",
      "source": [
        "epochs_hist.history.keys()"
      ],
      "metadata": {
        "id": "UwrLEsM_4-HX"
      },
      "execution_count": null,
      "outputs": []
    },
    {
      "cell_type": "code",
      "source": [
        "plt.plot(epochs_hist.history['loss'])\n",
        "plt.title('Model Loss Progress During Training')\n",
        "plt.xlabel('Epoch')\n",
        "plt.ylabel('Training Loss')\n",
        "plt.legend(['Training Loss'])"
      ],
      "metadata": {
        "id": "1fu1IXP25hxk"
      },
      "execution_count": null,
      "outputs": []
    },
    {
      "cell_type": "markdown",
      "source": [
        "From the above graph, we can see that as the number of epochs increase, the training loss decreases."
      ],
      "metadata": {
        "id": "7sjLKLDY6Le5"
      }
    },
    {
      "cell_type": "markdown",
      "source": [
        "#**Decision Tree and Random Forest Models**\n",
        "In the following block of code, I have implemented regression decision tree and random forest models using sklearn library functions"
      ],
      "metadata": {
        "id": "hoMLavuI6PxG"
      }
    },
    {
      "cell_type": "code",
      "source": [
        "# Decision tree builds regression or classification models in the form of a tree structure.\n",
        "# Decision tree breaks down a dataset into smaller subsets while at the same time an associated decision tree is incrementally developed.\n",
        "# The final result is a tree with decision nodes and leaf nodes.\n",
        "# Great resource: https://www.saedsayad.com/decision_tree_reg.htm\n",
        "\n",
        "from sklearn.tree import DecisionTreeRegressor\n",
        "DecisionTree_model = DecisionTreeRegressor()\n",
        "DecisionTree_model.fit(X_train, y_train)"
      ],
      "metadata": {
        "id": "7boTvU_T5mCc"
      },
      "execution_count": null,
      "outputs": []
    },
    {
      "cell_type": "code",
      "source": [
        "accuracy_DecisionTree = DecisionTree_model.score(X_test,y_test)\n",
        "accuracy_DecisionTree"
      ],
      "metadata": {
        "id": "aofY1z3VFmqD"
      },
      "execution_count": null,
      "outputs": []
    },
    {
      "cell_type": "markdown",
      "source": [
        "Many decision trees make up a random forest model which is an ensemble model. Predictions made by each decision tree are averaged to get the prediction of random forest model.\n",
        "A random forest regressor fits a number of classifying decision trees on various sub-samples of the dataset and uses averaging to improve the predictive accuracy and control over-fitting."
      ],
      "metadata": {
        "id": "hIDNEUq-FtvO"
      }
    },
    {
      "cell_type": "code",
      "source": [
        "from sklearn.ensemble import RandomForestRegressor\n",
        "RandomForest_model = RandomForestRegressor(n_estimators = 100, max_depth = 10)\n",
        "RandomForest_model.fit(X_train,y_train)"
      ],
      "metadata": {
        "id": "x-Zww7VfFvrl"
      },
      "execution_count": null,
      "outputs": []
    },
    {
      "cell_type": "code",
      "source": [
        "accuracy_RandomForest = RandomForest_model.score(X_test,y_test)\n",
        "accuracy_RandomForest"
      ],
      "metadata": {
        "id": "Odprs8POGEIX"
      },
      "execution_count": null,
      "outputs": []
    },
    {
      "cell_type": "markdown",
      "source": [
        "#**Regression KPIs**\n",
        "Upon model fitting, I have assessed the performance of each model by comparing their predictions to the true labels."
      ],
      "metadata": {
        "id": "WqFhvpn_GJXC"
      }
    },
    {
      "cell_type": "markdown",
      "source": [],
      "metadata": {
        "id": "1Pur96uA6O5O"
      }
    },
    {
      "cell_type": "code",
      "source": [
        "y_predict = LinearRegression_model.predict(X_test)\n",
        "plt.plot(y_test, y_predict, '^', color = 'r')"
      ],
      "metadata": {
        "id": "Psqkhra7GPFX"
      },
      "execution_count": null,
      "outputs": []
    },
    {
      "cell_type": "markdown",
      "source": [],
      "metadata": {
        "id": "6DDYZ7DCGOf0"
      }
    },
    {
      "cell_type": "code",
      "source": [
        "#After Inverse Transformation(change in scale values)\n",
        "y_predict_orig = scaler_y.inverse_transform(y_predict)\n",
        "y_test_orig = scaler_y.inverse_transform(y_test)"
      ],
      "metadata": {
        "id": "ogTCdd18LHdx"
      },
      "execution_count": null,
      "outputs": []
    },
    {
      "cell_type": "code",
      "source": [
        "plt.plot(y_test_orig,y_predict_orig,\"^\", color='r')"
      ],
      "metadata": {
        "id": "qFFYVncSLD2u"
      },
      "execution_count": null,
      "outputs": []
    },
    {
      "cell_type": "code",
      "source": [
        "k = X_test.shape[1]\n",
        "n = len(X_test)\n",
        "n"
      ],
      "metadata": {
        "id": "GzAKn9knLEPT"
      },
      "execution_count": null,
      "outputs": []
    },
    {
      "cell_type": "code",
      "source": [
        "from sklearn.metrics import r2_score, mean_squared_error, mean_absolute_error\n",
        "from math import sqrt\n",
        "\n",
        "# Calculate RMSE (Root Mean Squared Error)\n",
        "RMSE = float(format(np.sqrt(mean_squared_error(y_test_orig, y_predict_orig)), '.3f'))\n",
        "\n",
        "# Calculate MSE (Mean Squared Error)\n",
        "MSE = mean_squared_error(y_test_orig, y_predict_orig)\n",
        "\n",
        "# Calculate MAE (Mean Absolute Error)\n",
        "MAE = mean_absolute_error(y_test_orig, y_predict_orig)\n",
        "\n",
        "# Calculate R² score (Coefficient of Determination)\n",
        "r2 = r2_score(y_test_orig, y_predict_orig)\n",
        "\n",
        "# Calculate Adjusted R² score\n",
        "adj_r2 = 1 - (1 - r2) * (n - 1) / (n - k - 1)\n",
        "\n",
        "# Print the results\n",
        "print('RMSE =', RMSE, '\\nMSE =', MSE, '\\nMAE =', MAE, '\\nR2 =', r2, '\\nAdjusted R2 =', adj_r2)\n"
      ],
      "metadata": {
        "id": "s5P6qpOVLQ-Z"
      },
      "execution_count": null,
      "outputs": []
    },
    {
      "cell_type": "code",
      "source": [],
      "metadata": {
        "id": "aVAuq35gLV2D"
      },
      "execution_count": null,
      "outputs": []
    }
  ]
}